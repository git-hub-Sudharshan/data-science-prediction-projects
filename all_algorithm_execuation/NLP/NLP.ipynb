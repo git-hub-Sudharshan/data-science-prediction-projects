{
 "cells": [
  {
   "cell_type": "code",
   "execution_count": 4,
   "id": "2d0b386f",
   "metadata": {},
   "outputs": [
    {
     "name": "stderr",
     "output_type": "stream",
     "text": [
      "[nltk_data] Downloading package punkt to\n",
      "[nltk_data]     C:\\Users\\gmsud\\AppData\\Roaming\\nltk_data...\n",
      "[nltk_data]   Package punkt is already up-to-date!\n",
      "[nltk_data] Downloading package punkt_tab to\n",
      "[nltk_data]     C:\\Users\\gmsud\\AppData\\Roaming\\nltk_data...\n",
      "[nltk_data]   Package punkt_tab is already up-to-date!\n",
      "[nltk_data] Downloading package stopwords to\n",
      "[nltk_data]     C:\\Users\\gmsud\\AppData\\Roaming\\nltk_data...\n",
      "[nltk_data]   Package stopwords is already up-to-date!\n",
      "[nltk_data] Downloading package wordnet to\n",
      "[nltk_data]     C:\\Users\\gmsud\\AppData\\Roaming\\nltk_data...\n",
      "[nltk_data]   Package wordnet is already up-to-date!\n"
     ]
    },
    {
     "data": {
      "text/plain": [
       "True"
      ]
     },
     "execution_count": 4,
     "metadata": {},
     "output_type": "execute_result"
    }
   ],
   "source": [
    "import nltk\n",
    "nltk.download('punkt')\n",
    "from nltk.tokenize import word_tokenize, sent_tokenize\n",
    "nltk.download('punkt_tab')\n",
    "from nltk.corpus import stopwords\n",
    "nltk.download('stopwords')\n",
    "from nltk.stem import PorterStemmer\n",
    "from nltk.stem import WordNetLemmatizer\n",
    "nltk.download('wordnet')\n"
   ]
  },
  {
   "cell_type": "code",
   "execution_count": 5,
   "id": "83feaa61",
   "metadata": {},
   "outputs": [],
   "source": [
    "text = \"Hello, world! This is a test. Let's see how it works.\"\n",
    "# Tokenize the text into sentences\n",
    "word_token_text = word_tokenize(text)\n",
    "sent_token = sent_tokenize(text)"
   ]
  },
  {
   "cell_type": "code",
   "execution_count": 6,
   "id": "70e61159",
   "metadata": {},
   "outputs": [
    {
     "data": {
      "text/plain": [
       "['Hello',\n",
       " ',',\n",
       " 'world',\n",
       " '!',\n",
       " 'This',\n",
       " 'is',\n",
       " 'a',\n",
       " 'test',\n",
       " '.',\n",
       " 'Let',\n",
       " \"'s\",\n",
       " 'see',\n",
       " 'how',\n",
       " 'it',\n",
       " 'works',\n",
       " '.']"
      ]
     },
     "execution_count": 6,
     "metadata": {},
     "output_type": "execute_result"
    }
   ],
   "source": [
    "word_token_text\n"
   ]
  },
  {
   "cell_type": "code",
   "execution_count": 7,
   "id": "c0d874c8",
   "metadata": {},
   "outputs": [
    {
     "data": {
      "text/plain": [
       "['Hello, world!', 'This is a test.', \"Let's see how it works.\"]"
      ]
     },
     "execution_count": 7,
     "metadata": {},
     "output_type": "execute_result"
    }
   ],
   "source": [
    "sent_token"
   ]
  },
  {
   "cell_type": "code",
   "execution_count": 8,
   "id": "671bf628",
   "metadata": {},
   "outputs": [
    {
     "data": {
      "text/plain": [
       "['Hello', ',', 'world', '!', 'test', '.', 'Let', \"'s\", 'see', 'works', '.']"
      ]
     },
     "execution_count": 8,
     "metadata": {},
     "output_type": "execute_result"
    }
   ],
   "source": [
    "stop_words = set(stopwords.words('english'))\n",
    "filtered_words = [word for word in word_token_text if word.lower() not in stop_words]\n",
    "filtered_words\n",
    "# Filter out stop words from the tokenized words"
   ]
  },
  {
   "cell_type": "code",
   "execution_count": 9,
   "id": "9f3d2c7d",
   "metadata": {},
   "outputs": [
    {
     "data": {
      "text/plain": [
       "['run', 'ran', 'easili', 'fairli', 'play', 'play', 'play']"
      ]
     },
     "execution_count": 9,
     "metadata": {},
     "output_type": "execute_result"
    }
   ],
   "source": [
    "ps = PorterStemmer()\n",
    "words = [\"running\", \"ran\", \"easily\", \"fairly\",\"playing\", \"played\",\"plays\"]\n",
    "stemmed_words = [ps.stem(word) for word in words]\n",
    "stemmed_words"
   ]
  },
  {
   "cell_type": "code",
   "execution_count": 10,
   "id": "3f62a3da",
   "metadata": {},
   "outputs": [
    {
     "data": {
      "text/plain": [
       "['play', 'play', 'better', 'mice', 'run']"
      ]
     },
     "execution_count": 10,
     "metadata": {},
     "output_type": "execute_result"
    }
   ],
   "source": [
    "# pos parts of speach \n",
    "lematizer = WordNetLemmatizer()\n",
    "words =[\"played\",\"playing\",\"better\",\"mice\",\"running\"]\n",
    "lematized_words = [lematizer.lemmatize(word,pos=\"v\") for word in words]\n",
    "lematized_words"
   ]
  }
 ],
 "metadata": {
  "kernelspec": {
   "display_name": "tf-new",
   "language": "python",
   "name": "python3"
  },
  "language_info": {
   "codemirror_mode": {
    "name": "ipython",
    "version": 3
   },
   "file_extension": ".py",
   "mimetype": "text/x-python",
   "name": "python",
   "nbconvert_exporter": "python",
   "pygments_lexer": "ipython3",
   "version": "3.9.18"
  }
 },
 "nbformat": 4,
 "nbformat_minor": 5
}
