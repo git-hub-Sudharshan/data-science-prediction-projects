{
 "cells": [
  {
   "cell_type": "code",
   "execution_count": 1,
   "id": "87f81c62",
   "metadata": {},
   "outputs": [],
   "source": [
    "import numpy as np"
   ]
  },
  {
   "cell_type": "code",
   "execution_count": 6,
   "id": "2bef7db5",
   "metadata": {},
   "outputs": [
    {
     "name": "stdout",
     "output_type": "stream",
     "text": [
      "Input: [2 3], Prediction: 1\n",
      "Input: [2 4], Prediction: 1\n",
      "Input: [3 2], Prediction: 1\n",
      "Input: [1 1], Prediction: 1\n"
     ]
    }
   ],
   "source": [
    "import numpy as np\n",
    "\n",
    "def step_function(x):\n",
    "    \"\"\"Step Function\"\"\"\n",
    "    return 1 if x >= 0 else 0 \n",
    "\n",
    "class Perceptron:\n",
    "    def __init__(self, input_size, learning_rate=0.01):\n",
    "        self.weights = np.zeros(input_size)\n",
    "        self.bias = 0\n",
    "        self.learning_rate = learning_rate\n",
    "        \n",
    "    def predict(self, x):\n",
    "        weighted_sum = np.dot(self.weights, x) + self.bias\n",
    "        return step_function(weighted_sum)\n",
    "    \n",
    "    def train(self, x, y, epochs):\n",
    "        for epoch in range(epochs):\n",
    "            for xi, yi in zip(x, y):\n",
    "                y_pred = self.predict(xi)\n",
    "                error = yi - y_pred\n",
    "                self.weights += self.learning_rate * error * xi\n",
    "                self.bias += self.learning_rate * error\n",
    "\n",
    "# Example dataset\n",
    "x = np.array([[2, 3], [2, 4], [3, 2], [1, 1]])\n",
    "y = np.array([1, 1, 1, 0])\n",
    "\n",
    "# Initialize and train the perceptron\n",
    "perceptron = Perceptron(input_size=2, learning_rate=0.1)\n",
    "perceptron.train(x, y, epochs=10)\n",
    "\n",
    "# Test predictions\n",
    "for xi in x:\n",
    "    print(f\"Input: {xi}, Prediction: {perceptron.predict(xi)}\")\n"
   ]
  },
  {
   "cell_type": "code",
   "execution_count": 9,
   "id": "0fcb2c6e",
   "metadata": {},
   "outputs": [
    {
     "name": "stdout",
     "output_type": "stream",
     "text": [
      "Accuracy: 82.50%\n"
     ]
    },
    {
     "name": "stderr",
     "output_type": "stream",
     "text": [
      "c:\\Users\\gmsud\\anaconda3\\envs\\tf-new\\lib\\site-packages\\sklearn\\neural_network\\_multilayer_perceptron.py:691: ConvergenceWarning: Stochastic Optimizer: Maximum iterations (1000) reached and the optimization hasn't converged yet.\n",
      "  warnings.warn(\n"
     ]
    }
   ],
   "source": [
    "from sklearn.neural_network import MLPClassifier\n",
    "from sklearn.datasets import make_moons\n",
    "from sklearn.model_selection import train_test_split\n",
    "from sklearn.metrics import accuracy_score\n",
    "import matplotlib.pyplot as plt\n",
    "\n",
    "x,y = make_moons(n_samples=200, noise=0.2, random_state=42)\n",
    "x_train, x_test, y_train, y_test = train_test_split(x, y, test_size=0.2, random_state=42)\n",
    "mlp=MLPClassifier(hidden_layer_sizes=(5,), activation='relu', solver='adam', max_iter=1000, random_state=42)\n",
    "mlp.fit(x_train, y_train)\n",
    "\n",
    "accuracy = accuracy_score(y_test, mlp.predict(x_test))\n",
    "print(f\"Accuracy: {accuracy*100:.2f}%\")\n"
   ]
  }
 ],
 "metadata": {
  "kernelspec": {
   "display_name": "tf-new",
   "language": "python",
   "name": "python3"
  },
  "language_info": {
   "codemirror_mode": {
    "name": "ipython",
    "version": 3
   },
   "file_extension": ".py",
   "mimetype": "text/x-python",
   "name": "python",
   "nbconvert_exporter": "python",
   "pygments_lexer": "ipython3",
   "version": "3.9.18"
  }
 },
 "nbformat": 4,
 "nbformat_minor": 5
}
