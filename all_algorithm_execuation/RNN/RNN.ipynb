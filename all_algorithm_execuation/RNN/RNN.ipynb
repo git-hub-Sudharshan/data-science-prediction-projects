{
 "cells": [
  {
   "cell_type": "code",
   "execution_count": 21,
   "id": "953e8b5f",
   "metadata": {},
   "outputs": [],
   "source": [
    "import pandas as pd\n",
    "import seaborn as sns\n",
    "import numpy as np\n",
    "import matplotlib.pyplot as plt\n",
    "from sklearn.model_selection import train_test_split\n",
    "from sklearn.metrics import mean_squared_error, r2_score,mean_absolute_error\n",
    "from sklearn.metrics import confusion_matrix\n",
    "from sklearn.preprocessing import MinMaxScaler\n",
    "from keras.models import Sequential\n",
    "from keras.layers import Dense, Dropout\n",
    "from keras.layers import SimpleRNN\n"
   ]
  },
  {
   "cell_type": "code",
   "execution_count": 3,
   "id": "7245ddf6",
   "metadata": {},
   "outputs": [],
   "source": [
    "df = pd.read_csv('../Google_Stock_Price_Train.csv')"
   ]
  },
  {
   "cell_type": "code",
   "execution_count": 4,
   "id": "17b75be8",
   "metadata": {},
   "outputs": [
    {
     "data": {
      "application/vnd.microsoft.datawrangler.viewer.v0+json": {
       "columns": [
        {
         "name": "index",
         "rawType": "int64",
         "type": "integer"
        },
        {
         "name": "Date",
         "rawType": "object",
         "type": "string"
        },
        {
         "name": "Open",
         "rawType": "float64",
         "type": "float"
        },
        {
         "name": "High",
         "rawType": "float64",
         "type": "float"
        },
        {
         "name": "Low",
         "rawType": "float64",
         "type": "float"
        },
        {
         "name": "Close",
         "rawType": "object",
         "type": "string"
        },
        {
         "name": "Volume",
         "rawType": "object",
         "type": "string"
        }
       ],
       "conversionMethod": "pd.DataFrame",
       "ref": "ac1c4ad1-8f4b-4661-85c9-d12ac7518bce",
       "rows": [
        [
         "0",
         "1/3/2012",
         "325.25",
         "332.83",
         "324.97",
         "663.59",
         "7,380,500"
        ],
        [
         "1",
         "1/4/2012",
         "331.27",
         "333.87",
         "329.08",
         "666.45",
         "5,749,400"
        ],
        [
         "2",
         "1/5/2012",
         "329.83",
         "330.75",
         "326.89",
         "657.21",
         "6,590,300"
        ],
        [
         "3",
         "1/6/2012",
         "328.34",
         "328.77",
         "323.68",
         "648.24",
         "5,405,900"
        ],
        [
         "4",
         "1/9/2012",
         "322.04",
         "322.29",
         "309.46",
         "620.76",
         "11,688,800"
        ]
       ],
       "shape": {
        "columns": 6,
        "rows": 5
       }
      },
      "text/html": [
       "<div>\n",
       "<style scoped>\n",
       "    .dataframe tbody tr th:only-of-type {\n",
       "        vertical-align: middle;\n",
       "    }\n",
       "\n",
       "    .dataframe tbody tr th {\n",
       "        vertical-align: top;\n",
       "    }\n",
       "\n",
       "    .dataframe thead th {\n",
       "        text-align: right;\n",
       "    }\n",
       "</style>\n",
       "<table border=\"1\" class=\"dataframe\">\n",
       "  <thead>\n",
       "    <tr style=\"text-align: right;\">\n",
       "      <th></th>\n",
       "      <th>Date</th>\n",
       "      <th>Open</th>\n",
       "      <th>High</th>\n",
       "      <th>Low</th>\n",
       "      <th>Close</th>\n",
       "      <th>Volume</th>\n",
       "    </tr>\n",
       "  </thead>\n",
       "  <tbody>\n",
       "    <tr>\n",
       "      <th>0</th>\n",
       "      <td>1/3/2012</td>\n",
       "      <td>325.25</td>\n",
       "      <td>332.83</td>\n",
       "      <td>324.97</td>\n",
       "      <td>663.59</td>\n",
       "      <td>7,380,500</td>\n",
       "    </tr>\n",
       "    <tr>\n",
       "      <th>1</th>\n",
       "      <td>1/4/2012</td>\n",
       "      <td>331.27</td>\n",
       "      <td>333.87</td>\n",
       "      <td>329.08</td>\n",
       "      <td>666.45</td>\n",
       "      <td>5,749,400</td>\n",
       "    </tr>\n",
       "    <tr>\n",
       "      <th>2</th>\n",
       "      <td>1/5/2012</td>\n",
       "      <td>329.83</td>\n",
       "      <td>330.75</td>\n",
       "      <td>326.89</td>\n",
       "      <td>657.21</td>\n",
       "      <td>6,590,300</td>\n",
       "    </tr>\n",
       "    <tr>\n",
       "      <th>3</th>\n",
       "      <td>1/6/2012</td>\n",
       "      <td>328.34</td>\n",
       "      <td>328.77</td>\n",
       "      <td>323.68</td>\n",
       "      <td>648.24</td>\n",
       "      <td>5,405,900</td>\n",
       "    </tr>\n",
       "    <tr>\n",
       "      <th>4</th>\n",
       "      <td>1/9/2012</td>\n",
       "      <td>322.04</td>\n",
       "      <td>322.29</td>\n",
       "      <td>309.46</td>\n",
       "      <td>620.76</td>\n",
       "      <td>11,688,800</td>\n",
       "    </tr>\n",
       "  </tbody>\n",
       "</table>\n",
       "</div>"
      ],
      "text/plain": [
       "       Date    Open    High     Low   Close      Volume\n",
       "0  1/3/2012  325.25  332.83  324.97  663.59   7,380,500\n",
       "1  1/4/2012  331.27  333.87  329.08  666.45   5,749,400\n",
       "2  1/5/2012  329.83  330.75  326.89  657.21   6,590,300\n",
       "3  1/6/2012  328.34  328.77  323.68  648.24   5,405,900\n",
       "4  1/9/2012  322.04  322.29  309.46  620.76  11,688,800"
      ]
     },
     "execution_count": 4,
     "metadata": {},
     "output_type": "execute_result"
    }
   ],
   "source": [
    "df.head()\n"
   ]
  },
  {
   "cell_type": "code",
   "execution_count": 5,
   "id": "94166168",
   "metadata": {},
   "outputs": [
    {
     "data": {
      "text/plain": [
       "array([[325.25],\n",
       "       [331.27],\n",
       "       [329.83],\n",
       "       ...,\n",
       "       [793.7 ],\n",
       "       [783.33],\n",
       "       [782.75]])"
      ]
     },
     "execution_count": 5,
     "metadata": {},
     "output_type": "execute_result"
    }
   ],
   "source": [
    "train = df.loc[:,['Open']].values\n",
    "train"
   ]
  },
  {
   "cell_type": "code",
   "execution_count": 6,
   "id": "ccaff0be",
   "metadata": {},
   "outputs": [
    {
     "data": {
      "text/plain": [
       "array([[0.08581368],\n",
       "       [0.09701243],\n",
       "       [0.09433366],\n",
       "       ...,\n",
       "       [0.95725128],\n",
       "       [0.93796041],\n",
       "       [0.93688146]])"
      ]
     },
     "execution_count": 6,
     "metadata": {},
     "output_type": "execute_result"
    }
   ],
   "source": [
    "scaler = MinMaxScaler(feature_range=(0,1))\n",
    "train_scale = scaler.fit_transform(train)\n",
    "train_scale"
   ]
  },
  {
   "cell_type": "code",
   "execution_count": 7,
   "id": "007e2438",
   "metadata": {},
   "outputs": [
    {
     "data": {
      "text/plain": [
       "Text(0.5, 1.0, 'Google Stock Price')"
      ]
     },
     "execution_count": 7,
     "metadata": {},
     "output_type": "execute_result"
    },
    {
     "data": {
      "image/png": "[encoded data removed]",
      "text/plain": [
       "<Figure size 640x480 with 1 Axes>"
      ]
     },
     "metadata": {},
     "output_type": "display_data"
    }
   ],
   "source": [
    "plt.plot(train_scale, color='blue')\n",
    "plt.title('Google Stock Price')"
   ]
  },
  {
   "cell_type": "code",
   "execution_count": 8,
   "id": "984cbc17",
   "metadata": {},
   "outputs": [],
   "source": [
    "x_train = []\n",
    "y_train = []\n",
    "\n",
    "timesteps = 50\n",
    "for i in range(timesteps, len(train_scale)):\n",
    "    x_train.append(train_scale[i-timesteps:i, 0])\n",
    "    y_train.append(train_scale[i, 0])\n",
    "    \n",
    "\n",
    "x_train, y_train = np.array(x_train), np.array(y_train)\n"
   ]
  },
  {
   "cell_type": "code",
   "execution_count": 9,
   "id": "e2f0c442",
   "metadata": {},
   "outputs": [
    {
     "data": {
      "text/plain": [
       "(1208, 50, 1)"
      ]
     },
     "execution_count": 9,
     "metadata": {},
     "output_type": "execute_result"
    }
   ],
   "source": [
    "x_train = np.reshape(x_train, (x_train.shape[0], x_train.shape[1], 1))\n",
    "x_train.shape"
   ]
  },
  {
   "cell_type": "code",
   "execution_count": 10,
   "id": "2f7be0d2",
   "metadata": {},
   "outputs": [
    {
     "name": "stdout",
     "output_type": "stream",
     "text": [
      "Epoch 1/100\n",
      "38/38 [==============================] - 3s 19ms/step - loss: 0.3662\n",
      "Epoch 2/100\n",
      "38/38 [==============================] - 1s 19ms/step - loss: 0.2233\n",
      "Epoch 3/100\n",
      "38/38 [==============================] - 1s 22ms/step - loss: 0.1556\n",
      "Epoch 4/100\n",
      "38/38 [==============================] - 1s 22ms/step - loss: 0.1152\n",
      "Epoch 5/100\n",
      "38/38 [==============================] - 1s 20ms/step - loss: 0.0961\n",
      "Epoch 6/100\n",
      "38/38 [==============================] - 1s 20ms/step - loss: 0.0743\n",
      "Epoch 7/100\n",
      "38/38 [==============================] - 1s 20ms/step - loss: 0.0554\n",
      "Epoch 8/100\n",
      "38/38 [==============================] - 1s 20ms/step - loss: 0.0498\n",
      "Epoch 9/100\n",
      "38/38 [==============================] - 1s 20ms/step - loss: 0.0444\n",
      "Epoch 10/100\n",
      "38/38 [==============================] - 1s 19ms/step - loss: 0.0389\n",
      "Epoch 11/100\n",
      "38/38 [==============================] - 1s 22ms/step - loss: 0.0336\n",
      "Epoch 12/100\n",
      "38/38 [==============================] - 1s 20ms/step - loss: 0.0320\n",
      "Epoch 13/100\n",
      "38/38 [==============================] - 1s 21ms/step - loss: 0.0275\n",
      "Epoch 14/100\n",
      "38/38 [==============================] - 1s 21ms/step - loss: 0.0224\n",
      "Epoch 15/100\n",
      "38/38 [==============================] - 1s 21ms/step - loss: 0.0204\n",
      "Epoch 16/100\n",
      "38/38 [==============================] - 1s 22ms/step - loss: 0.0192\n",
      "Epoch 17/100\n",
      "38/38 [==============================] - 1s 21ms/step - loss: 0.0175\n",
      "Epoch 18/100\n",
      "38/38 [==============================] - 1s 20ms/step - loss: 0.0169\n",
      "Epoch 19/100\n",
      "38/38 [==============================] - 1s 20ms/step - loss: 0.0165\n",
      "Epoch 20/100\n",
      "38/38 [==============================] - 1s 19ms/step - loss: 0.0143\n",
      "Epoch 21/100\n",
      "38/38 [==============================] - 1s 20ms/step - loss: 0.0126\n",
      "Epoch 22/100\n",
      "38/38 [==============================] - 1s 20ms/step - loss: 0.0130\n",
      "Epoch 23/100\n",
      "38/38 [==============================] - 1s 20ms/step - loss: 0.0114\n",
      "Epoch 24/100\n",
      "38/38 [==============================] - 1s 20ms/step - loss: 0.0108\n",
      "Epoch 25/100\n",
      "38/38 [==============================] - 1s 20ms/step - loss: 0.0107\n",
      "Epoch 26/100\n",
      "38/38 [==============================] - 1s 19ms/step - loss: 0.0097\n",
      "Epoch 27/100\n",
      "38/38 [==============================] - 1s 20ms/step - loss: 0.0095\n",
      "Epoch 28/100\n",
      "38/38 [==============================] - 1s 19ms/step - loss: 0.0091\n",
      "Epoch 29/100\n",
      "38/38 [==============================] - 1s 20ms/step - loss: 0.0083\n",
      "Epoch 30/100\n",
      "38/38 [==============================] - 1s 20ms/step - loss: 0.0085\n",
      "Epoch 31/100\n",
      "38/38 [==============================] - 1s 20ms/step - loss: 0.0078\n",
      "Epoch 32/100\n",
      "38/38 [==============================] - 1s 20ms/step - loss: 0.0082\n",
      "Epoch 33/100\n",
      "38/38 [==============================] - 1s 20ms/step - loss: 0.0066\n",
      "Epoch 34/100\n",
      "38/38 [==============================] - 1s 19ms/step - loss: 0.0068\n",
      "Epoch 35/100\n",
      "38/38 [==============================] - 1s 19ms/step - loss: 0.0062\n",
      "Epoch 36/100\n",
      "38/38 [==============================] - 1s 19ms/step - loss: 0.0066\n",
      "Epoch 37/100\n",
      "38/38 [==============================] - 1s 19ms/step - loss: 0.0061\n",
      "Epoch 38/100\n",
      "38/38 [==============================] - 1s 19ms/step - loss: 0.0061\n",
      "Epoch 39/100\n",
      "38/38 [==============================] - 1s 20ms/step - loss: 0.0054\n",
      "Epoch 40/100\n",
      "38/38 [==============================] - 1s 19ms/step - loss: 0.0054\n",
      "Epoch 41/100\n",
      "38/38 [==============================] - 1s 19ms/step - loss: 0.0050\n",
      "Epoch 42/100\n",
      "38/38 [==============================] - 1s 20ms/step - loss: 0.0051\n",
      "Epoch 43/100\n",
      "38/38 [==============================] - 1s 19ms/step - loss: 0.0048\n",
      "Epoch 44/100\n",
      "38/38 [==============================] - 1s 19ms/step - loss: 0.0050\n",
      "Epoch 45/100\n",
      "38/38 [==============================] - 1s 19ms/step - loss: 0.0044\n",
      "Epoch 46/100\n",
      "38/38 [==============================] - 1s 19ms/step - loss: 0.0046\n",
      "Epoch 47/100\n",
      "38/38 [==============================] - 1s 19ms/step - loss: 0.0039\n",
      "Epoch 48/100\n",
      "38/38 [==============================] - 1s 19ms/step - loss: 0.0047\n",
      "Epoch 49/100\n",
      "38/38 [==============================] - 1s 20ms/step - loss: 0.0043\n",
      "Epoch 50/100\n",
      "38/38 [==============================] - 1s 20ms/step - loss: 0.0042\n",
      "Epoch 51/100\n",
      "38/38 [==============================] - 1s 19ms/step - loss: 0.0039\n",
      "Epoch 52/100\n",
      "38/38 [==============================] - 1s 19ms/step - loss: 0.0040\n",
      "Epoch 53/100\n",
      "38/38 [==============================] - 1s 19ms/step - loss: 0.0041\n",
      "Epoch 54/100\n",
      "38/38 [==============================] - 1s 19ms/step - loss: 0.0037\n",
      "Epoch 55/100\n",
      "38/38 [==============================] - 1s 20ms/step - loss: 0.0039\n",
      "Epoch 56/100\n",
      "38/38 [==============================] - 1s 20ms/step - loss: 0.0036\n",
      "Epoch 57/100\n",
      "38/38 [==============================] - 1s 19ms/step - loss: 0.0035\n",
      "Epoch 58/100\n",
      "38/38 [==============================] - 1s 20ms/step - loss: 0.0036\n",
      "Epoch 59/100\n",
      "38/38 [==============================] - 1s 20ms/step - loss: 0.0041\n",
      "Epoch 60/100\n",
      "38/38 [==============================] - 1s 19ms/step - loss: 0.0038\n",
      "Epoch 61/100\n",
      "38/38 [==============================] - 1s 19ms/step - loss: 0.0035\n",
      "Epoch 62/100\n",
      "38/38 [==============================] - 1s 20ms/step - loss: 0.0035\n",
      "Epoch 63/100\n",
      "38/38 [==============================] - 1s 19ms/step - loss: 0.0037\n",
      "Epoch 64/100\n",
      "38/38 [==============================] - 1s 19ms/step - loss: 0.0034\n",
      "Epoch 65/100\n",
      "38/38 [==============================] - 1s 19ms/step - loss: 0.0030\n",
      "Epoch 66/100\n",
      "38/38 [==============================] - 1s 19ms/step - loss: 0.0030\n",
      "Epoch 67/100\n",
      "38/38 [==============================] - 1s 20ms/step - loss: 0.0030\n",
      "Epoch 68/100\n",
      "38/38 [==============================] - 1s 20ms/step - loss: 0.0029\n",
      "Epoch 69/100\n",
      "38/38 [==============================] - 1s 20ms/step - loss: 0.0031\n",
      "Epoch 70/100\n",
      "38/38 [==============================] - 1s 19ms/step - loss: 0.0030\n",
      "Epoch 71/100\n",
      "38/38 [==============================] - 1s 19ms/step - loss: 0.0027\n",
      "Epoch 72/100\n",
      "38/38 [==============================] - 1s 19ms/step - loss: 0.0026\n",
      "Epoch 73/100\n",
      "38/38 [==============================] - 1s 20ms/step - loss: 0.0028\n",
      "Epoch 74/100\n",
      "38/38 [==============================] - 1s 20ms/step - loss: 0.0026\n",
      "Epoch 75/100\n",
      "38/38 [==============================] - 1s 19ms/step - loss: 0.0027\n",
      "Epoch 76/100\n",
      "38/38 [==============================] - 1s 19ms/step - loss: 0.0027\n",
      "Epoch 77/100\n",
      "38/38 [==============================] - 1s 20ms/step - loss: 0.0023\n",
      "Epoch 78/100\n",
      "38/38 [==============================] - 1s 19ms/step - loss: 0.0030\n",
      "Epoch 79/100\n",
      "38/38 [==============================] - 1s 19ms/step - loss: 0.0026\n",
      "Epoch 80/100\n",
      "38/38 [==============================] - 1s 19ms/step - loss: 0.0024\n",
      "Epoch 81/100\n",
      "38/38 [==============================] - 1s 19ms/step - loss: 0.0025\n",
      "Epoch 82/100\n",
      "38/38 [==============================] - 1s 19ms/step - loss: 0.0025\n",
      "Epoch 83/100\n",
      "38/38 [==============================] - 1s 19ms/step - loss: 0.0026\n",
      "Epoch 84/100\n",
      "38/38 [==============================] - 1s 19ms/step - loss: 0.0025\n",
      "Epoch 85/100\n",
      "38/38 [==============================] - 1s 20ms/step - loss: 0.0027\n",
      "Epoch 86/100\n",
      "38/38 [==============================] - 1s 20ms/step - loss: 0.0023\n",
      "Epoch 87/100\n",
      "38/38 [==============================] - 1s 19ms/step - loss: 0.0024\n",
      "Epoch 88/100\n",
      "38/38 [==============================] - 1s 19ms/step - loss: 0.0027\n",
      "Epoch 89/100\n",
      "38/38 [==============================] - 1s 19ms/step - loss: 0.0028\n",
      "Epoch 90/100\n",
      "38/38 [==============================] - 1s 20ms/step - loss: 0.0023\n",
      "Epoch 91/100\n",
      "38/38 [==============================] - 1s 19ms/step - loss: 0.0027\n",
      "Epoch 92/100\n",
      "38/38 [==============================] - 1s 19ms/step - loss: 0.0022\n",
      "Epoch 93/100\n",
      "38/38 [==============================] - 1s 19ms/step - loss: 0.0022\n",
      "Epoch 94/100\n",
      "38/38 [==============================] - 1s 19ms/step - loss: 0.0022\n",
      "Epoch 95/100\n",
      "38/38 [==============================] - 1s 20ms/step - loss: 0.0022\n",
      "Epoch 96/100\n",
      "38/38 [==============================] - 1s 20ms/step - loss: 0.0024\n",
      "Epoch 97/100\n",
      "38/38 [==============================] - 1s 19ms/step - loss: 0.0021\n",
      "Epoch 98/100\n",
      "38/38 [==============================] - 1s 19ms/step - loss: 0.0019\n",
      "Epoch 99/100\n",
      "38/38 [==============================] - 1s 19ms/step - loss: 0.0022\n",
      "Epoch 100/100\n",
      "38/38 [==============================] - 1s 20ms/step - loss: 0.0024\n"
     ]
    },
    {
     "data": {
      "text/plain": [
       "<keras.callbacks.History at 0x1c86a2c10d0>"
      ]
     },
     "execution_count": 10,
     "metadata": {},
     "output_type": "execute_result"
    }
   ],
   "source": [
    "# Regressor\n",
    "regressor = Sequential()\n",
    "regressor.add(SimpleRNN(units=50,activation='tanh', return_sequences=True, input_shape=(x_train.shape[1], 1)))\n",
    "regressor.add(Dropout(0.2))\n",
    "regressor.add(SimpleRNN(units=50,activation='tanh', return_sequences=True))\n",
    "regressor.add(Dropout(0.2))\n",
    "regressor.add(SimpleRNN(units=50,activation='tanh', return_sequences=True))\n",
    "regressor.add(Dropout(0.2))\n",
    "regressor.add(SimpleRNN(units=50))\n",
    "regressor.add(Dropout(0.2))\n",
    "regressor.add(Dense(units=1))\n",
    "regressor.compile(optimizer='adam', loss='mean_squared_error')\n",
    "regressor.fit(x_train, y_train, epochs=100, batch_size=32)"
   ]
  },
  {
   "cell_type": "code",
   "execution_count": 11,
   "id": "123594c0",
   "metadata": {},
   "outputs": [
    {
     "data": {
      "application/vnd.microsoft.datawrangler.viewer.v0+json": {
       "columns": [
        {
         "name": "index",
         "rawType": "int64",
         "type": "integer"
        },
        {
         "name": "Date",
         "rawType": "object",
         "type": "string"
        },
        {
         "name": "Open",
         "rawType": "float64",
         "type": "float"
        },
        {
         "name": "High",
         "rawType": "float64",
         "type": "float"
        },
        {
         "name": "Low",
         "rawType": "float64",
         "type": "float"
        },
        {
         "name": "Close",
         "rawType": "float64",
         "type": "float"
        },
        {
         "name": "Volume",
         "rawType": "object",
         "type": "string"
        }
       ],
       "conversionMethod": "pd.DataFrame",
       "ref": "ea46e9f0-e56c-476e-8ab2-2caf28cb8c46",
       "rows": [
        [
         "0",
         "1/3/2017",
         "778.81",
         "789.63",
         "775.8",
         "786.14",
         "1,657,300"
        ],
        [
         "1",
         "1/4/2017",
         "788.36",
         "791.34",
         "783.16",
         "786.9",
         "1,073,000"
        ],
        [
         "2",
         "1/5/2017",
         "786.08",
         "794.48",
         "785.02",
         "794.02",
         "1,335,200"
        ],
        [
         "3",
         "1/6/2017",
         "795.26",
         "807.9",
         "792.2",
         "806.15",
         "1,640,200"
        ],
        [
         "4",
         "1/9/2017",
         "806.4",
         "809.97",
         "802.83",
         "806.65",
         "1,272,400"
        ]
       ],
       "shape": {
        "columns": 6,
        "rows": 5
       }
      },
      "text/html": [
       "<div>\n",
       "<style scoped>\n",
       "    .dataframe tbody tr th:only-of-type {\n",
       "        vertical-align: middle;\n",
       "    }\n",
       "\n",
       "    .dataframe tbody tr th {\n",
       "        vertical-align: top;\n",
       "    }\n",
       "\n",
       "    .dataframe thead th {\n",
       "        text-align: right;\n",
       "    }\n",
       "</style>\n",
       "<table border=\"1\" class=\"dataframe\">\n",
       "  <thead>\n",
       "    <tr style=\"text-align: right;\">\n",
       "      <th></th>\n",
       "      <th>Date</th>\n",
       "      <th>Open</th>\n",
       "      <th>High</th>\n",
       "      <th>Low</th>\n",
       "      <th>Close</th>\n",
       "      <th>Volume</th>\n",
       "    </tr>\n",
       "  </thead>\n",
       "  <tbody>\n",
       "    <tr>\n",
       "      <th>0</th>\n",
       "      <td>1/3/2017</td>\n",
       "      <td>778.81</td>\n",
       "      <td>789.63</td>\n",
       "      <td>775.80</td>\n",
       "      <td>786.14</td>\n",
       "      <td>1,657,300</td>\n",
       "    </tr>\n",
       "    <tr>\n",
       "      <th>1</th>\n",
       "      <td>1/4/2017</td>\n",
       "      <td>788.36</td>\n",
       "      <td>791.34</td>\n",
       "      <td>783.16</td>\n",
       "      <td>786.90</td>\n",
       "      <td>1,073,000</td>\n",
       "    </tr>\n",
       "    <tr>\n",
       "      <th>2</th>\n",
       "      <td>1/5/2017</td>\n",
       "      <td>786.08</td>\n",
       "      <td>794.48</td>\n",
       "      <td>785.02</td>\n",
       "      <td>794.02</td>\n",
       "      <td>1,335,200</td>\n",
       "    </tr>\n",
       "    <tr>\n",
       "      <th>3</th>\n",
       "      <td>1/6/2017</td>\n",
       "      <td>795.26</td>\n",
       "      <td>807.90</td>\n",
       "      <td>792.20</td>\n",
       "      <td>806.15</td>\n",
       "      <td>1,640,200</td>\n",
       "    </tr>\n",
       "    <tr>\n",
       "      <th>4</th>\n",
       "      <td>1/9/2017</td>\n",
       "      <td>806.40</td>\n",
       "      <td>809.97</td>\n",
       "      <td>802.83</td>\n",
       "      <td>806.65</td>\n",
       "      <td>1,272,400</td>\n",
       "    </tr>\n",
       "  </tbody>\n",
       "</table>\n",
       "</div>"
      ],
      "text/plain": [
       "       Date    Open    High     Low   Close     Volume\n",
       "0  1/3/2017  778.81  789.63  775.80  786.14  1,657,300\n",
       "1  1/4/2017  788.36  791.34  783.16  786.90  1,073,000\n",
       "2  1/5/2017  786.08  794.48  785.02  794.02  1,335,200\n",
       "3  1/6/2017  795.26  807.90  792.20  806.15  1,640,200\n",
       "4  1/9/2017  806.40  809.97  802.83  806.65  1,272,400"
      ]
     },
     "execution_count": 11,
     "metadata": {},
     "output_type": "execute_result"
    }
   ],
   "source": [
    "# test model\n",
    "test = pd.read_csv('../Google_Stock_Price_Test.csv')\n",
    "test.head()"
   ]
  },
  {
   "cell_type": "code",
   "execution_count": 13,
   "id": "d0c19f4b",
   "metadata": {},
   "outputs": [
    {
     "data": {
      "text/plain": [
       "array([[778.81],\n",
       "       [788.36],\n",
       "       [786.08],\n",
       "       [795.26],\n",
       "       [806.4 ],\n",
       "       [807.86],\n",
       "       [805.  ],\n",
       "       [807.14],\n",
       "       [807.48],\n",
       "       [807.08],\n",
       "       [805.81],\n",
       "       [805.12],\n",
       "       [806.91],\n",
       "       [807.25],\n",
       "       [822.3 ],\n",
       "       [829.62],\n",
       "       [837.81],\n",
       "       [834.71],\n",
       "       [814.66],\n",
       "       [796.86]])"
      ]
     },
     "execution_count": 13,
     "metadata": {},
     "output_type": "execute_result"
    }
   ],
   "source": [
    "real_stock_price = test.loc[:,['Open']].values\n",
    "real_stock_price"
   ]
  },
  {
   "cell_type": "code",
   "execution_count": 15,
   "id": "c27fdc1c",
   "metadata": {},
   "outputs": [
    {
     "data": {
      "text/plain": [
       "0     325.25\n",
       "1     331.27\n",
       "2     329.83\n",
       "3     328.34\n",
       "4     322.04\n",
       "       ...  \n",
       "15    829.62\n",
       "16    837.81\n",
       "17    834.71\n",
       "18    814.66\n",
       "19    796.86\n",
       "Name: Open, Length: 1278, dtype: float64"
      ]
     },
     "execution_count": 15,
     "metadata": {},
     "output_type": "execute_result"
    }
   ],
   "source": [
    "dataset_total = pd.concat((df['Open'], test['Open']), axis=0)\n",
    "dataset_total"
   ]
  },
  {
   "cell_type": "code",
   "execution_count": 16,
   "id": "42b8a8f6",
   "metadata": {},
   "outputs": [
    {
     "data": {
      "text/plain": [
       "array([[0.97510976],\n",
       "       [0.95966962],\n",
       "       [0.97808617],\n",
       "       [1.        ],\n",
       "       [0.98076494],\n",
       "       [0.97083116],\n",
       "       [0.98450406],\n",
       "       [0.96054394],\n",
       "       [0.9371419 ],\n",
       "       [0.92841729],\n",
       "       [0.90804747],\n",
       "       [0.8771858 ],\n",
       "       [0.92153434],\n",
       "       [0.93809063],\n",
       "       [0.93165414],\n",
       "       [0.95254483],\n",
       "       [0.88812412],\n",
       "       [0.88637547],\n",
       "       [0.87032145],\n",
       "       [0.88563137],\n",
       "       [0.90743359],\n",
       "       [0.91571173],\n",
       "       [0.89941588],\n",
       "       [0.91805566],\n",
       "       [0.9089404 ],\n",
       "       [0.9024853 ],\n",
       "       [0.89456061],\n",
       "       [0.91600938],\n",
       "       [0.9132934 ],\n",
       "       [0.88979835],\n",
       "       [0.86589404],\n",
       "       [0.89030062],\n",
       "       [0.90335962],\n",
       "       [0.89642086],\n",
       "       [0.91777662],\n",
       "       [0.93176576],\n",
       "       [0.94114145],\n",
       "       [0.95762334],\n",
       "       [0.96413424],\n",
       "       [0.96402262],\n",
       "       [0.96971501],\n",
       "       [0.95077759],\n",
       "       [0.96294367],\n",
       "       [0.96123223],\n",
       "       [0.95475854],\n",
       "       [0.95204256],\n",
       "       [0.95163331],\n",
       "       [0.95725128],\n",
       "       [0.93796041],\n",
       "       [0.93688146],\n",
       "       [0.92955205],\n",
       "       [0.94731751],\n",
       "       [0.94307612],\n",
       "       [0.96015329],\n",
       "       [0.98087655],\n",
       "       [0.98359253],\n",
       "       [0.97827219],\n",
       "       [0.98225314],\n",
       "       [0.98288563],\n",
       "       [0.98214153],\n",
       "       [0.979779  ],\n",
       "       [0.97849542],\n",
       "       [0.98182528],\n",
       "       [0.98245777],\n",
       "       [1.01045465],\n",
       "       [1.02407173],\n",
       "       [1.03930724],\n",
       "       [1.03354044],\n",
       "       [0.99624228],\n",
       "       [0.9631297 ]])"
      ]
     },
     "execution_count": 16,
     "metadata": {},
     "output_type": "execute_result"
    }
   ],
   "source": [
    "input = dataset_total[len(dataset_total) - len(test) - timesteps:].values.reshape(-1,1)\n",
    "input = scaler.transform(input)\n",
    "input"
   ]
  },
  {
   "cell_type": "code",
   "execution_count": 18,
   "id": "c4e094d3",
   "metadata": {},
   "outputs": [
    {
     "data": {
      "text/plain": [
       "array([[780.9286 ],\n",
       "       [779.2985 ],\n",
       "       [779.79205],\n",
       "       [780.982  ],\n",
       "       [782.3568 ],\n",
       "       [785.9101 ],\n",
       "       [788.53906],\n",
       "       [790.63245],\n",
       "       [790.734  ],\n",
       "       [790.7729 ],\n",
       "       [790.261  ],\n",
       "       [789.7564 ],\n",
       "       [789.01575],\n",
       "       [788.9265 ],\n",
       "       [789.0545 ],\n",
       "       [792.21625],\n",
       "       [796.2964 ],\n",
       "       [800.2627 ],\n",
       "       [802.0255 ],\n",
       "       [799.853  ]], dtype=float32)"
      ]
     },
     "execution_count": 18,
     "metadata": {},
     "output_type": "execute_result"
    }
   ],
   "source": [
    "x_test = []\n",
    "for i in range(timesteps,70):\n",
    "    x_test.append(input[i-timesteps:i, 0])\n",
    "    \n",
    "x_test = np.array(x_test)\n",
    "x_test = np.reshape(x_test, (x_test.shape[0], x_test.shape[1], 1))\n",
    "\n",
    "predicted_stock_price = regressor.predict(x_test)\n",
    "predicted_stock_price = scaler.inverse_transform(predicted_stock_price)\n",
    "predicted_stock_price"
   ]
  },
  {
   "cell_type": "code",
   "execution_count": 19,
   "id": "a3d9f6c7",
   "metadata": {},
   "outputs": [
    {
     "data": {
      "image/png": "[encoded data removed]",
      "text/plain": [
       "<Figure size 640x480 with 1 Axes>"
      ]
     },
     "metadata": {},
     "output_type": "display_data"
    }
   ],
   "source": [
    "plt.plot(real_stock_price, color='red', label='Real Google Stock Price')\n",
    "plt.plot(predicted_stock_price, color='blue', label='Predicted Google Stock Price')\n",
    "plt.title('Google Stock Price Prediction')\n",
    "plt.xlabel('Time')\n",
    "plt.ylabel('Google Stock Price')\n",
    "plt.legend()\n",
    "plt.show()"
   ]
  },
  {
   "cell_type": "code",
   "execution_count": null,
   "id": "65cf58f5",
   "metadata": {},
   "outputs": [
    {
     "name": "stdout",
     "output_type": "stream",
     "text": [
      "RMSE: 21.443342658834094\n"
     ]
    }
   ],
   "source": [
    "# \n",
    "rmse = np.sqrt(mean_squared_error(real_stock_price, predicted_stock_price))\n",
    "print('RMSE:', rmse)"
   ]
  },
  {
   "cell_type": "code",
   "execution_count": 23,
   "id": "5906efa4",
   "metadata": {},
   "outputs": [
    {
     "name": "stdout",
     "output_type": "stream",
     "text": [
      "MAE: 18.6564365234375\n"
     ]
    }
   ],
   "source": [
    "MAE = mean_absolute_error(real_stock_price, predicted_stock_price)\n",
    "print('MAE:', MAE)"
   ]
  },
  {
   "cell_type": "code",
   "execution_count": 24,
   "id": "e1ed3e83",
   "metadata": {},
   "outputs": [
    {
     "name": "stdout",
     "output_type": "stream",
     "text": [
      "R2: -1.1156606073559603\n"
     ]
    }
   ],
   "source": [
    "r2 = r2_score(real_stock_price, predicted_stock_price)\n",
    "print('R2:', r2)"
   ]
  },
  {
   "cell_type": "code",
   "execution_count": null,
   "id": "bd4dbc33",
   "metadata": {},
   "outputs": [],
   "source": []
  }
 ],
 "metadata": {
  "kernelspec": {
   "display_name": "tf-new",
   "language": "python",
   "name": "python3"
  },
  "language_info": {
   "codemirror_mode": {
    "name": "ipython",
    "version": 3
   },
   "file_extension": ".py",
   "mimetype": "text/x-python",
   "name": "python",
   "nbconvert_exporter": "python",
   "pygments_lexer": "ipython3",
   "version": "3.9.18"
  }
 },
 "nbformat": 4,
 "nbformat_minor": 5
}
